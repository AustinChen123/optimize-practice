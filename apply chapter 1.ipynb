{
 "cells": [
  {
   "cell_type": "code",
   "execution_count": 1,
   "metadata": {},
   "outputs": [],
   "source": [
    "from simul import benchmark"
   ]
  },
  {
   "cell_type": "code",
   "execution_count": 2,
   "metadata": {},
   "outputs": [
    {
     "name": "stdout",
     "output_type": "stream",
     "text": [
      "14.2 s ± 1.54 s per loop (mean ± std. dev. of 7 runs, 1 loop each)\n"
     ]
    }
   ],
   "source": [
    "%timeit benchmark()\n",
    "#result 12.9 s ± 83.1 ms per loop (mean ± std. dev. of 7 runs, 1 loop each)"
   ]
  },
  {
   "cell_type": "code",
   "execution_count": 3,
   "metadata": {},
   "outputs": [
    {
     "name": "stdout",
     "output_type": "stream",
     "text": [
      "         7023 function calls in 12.381 seconds\n",
      "\n",
      "   Ordered by: standard name\n",
      "\n",
      "   ncalls  tottime  percall  cumtime  percall filename:lineno(function)\n",
      "        1    0.000    0.000   12.381   12.381 <ipython-input-3-58d835d77762>:4(<module>)\n",
      "        1    0.000    0.000    0.000    0.000 <ipython-input-3-58d835d77762>:5(<module>)\n",
      "        2    0.000    0.000    0.000    0.000 codeop.py:132(__call__)\n",
      "        2    0.000    0.000    0.000    0.000 hooks.py:142(__call__)\n",
      "        2    0.000    0.000    0.000    0.000 hooks.py:207(pre_run_code_hook)\n",
      "        2    0.000    0.000    0.000    0.000 interactiveshell.py:1258(user_global_ns)\n",
      "        2    0.000    0.000   12.381    6.190 interactiveshell.py:3230(run_code)\n",
      "        2    0.000    0.000    0.000    0.000 ipstruct.py:125(__getattr__)\n",
      "     3000    0.003    0.000    0.004    0.000 random.py:371(uniform)\n",
      "        1    0.000    0.000   12.381   12.381 simul.py:114(benchmark)\n",
      "        1    0.002    0.002    0.007    0.007 simul.py:115(<listcomp>)\n",
      "        1    0.000    0.000    0.000    0.000 simul.py:13(__init__)\n",
      "        1   12.373   12.373   12.373   12.373 simul.py:15(evolve)\n",
      "     1000    0.002    0.000    0.002    0.000 simul.py:8(__init__)\n",
      "        2    0.000    0.000    0.000    0.000 {built-in method builtins.compile}\n",
      "        2    0.000    0.000   12.381    6.190 {built-in method builtins.exec}\n",
      "        1    0.000    0.000    0.000    0.000 {method 'disable' of '_lsprof.Profiler' objects}\n",
      "     3000    0.001    0.000    0.001    0.000 {method 'random' of '_random.Random' objects}\n",
      "\n",
      "\n"
     ]
    }
   ],
   "source": [
    "import cProfile\n",
    "pr = cProfile.Profile()\n",
    "pr.enable()\n",
    "benchmark()\n",
    "pr.disable()\n",
    "pr.print_stats()"
   ]
  },
  {
   "cell_type": "code",
   "execution_count": 5,
   "metadata": {},
   "outputs": [
    {
     "name": "stdout",
     "output_type": "stream",
     "text": [
      " "
     ]
    }
   ],
   "source": [
    "%prun benchmark()\n",
    "#result\n",
    "\n",
    "#          7007 function calls in 11.932 seconds\n",
    "\n",
    "#    Ordered by: internal time\n",
    "\n",
    "#    ncalls  tottime  percall  cumtime  percall filename:lineno(function)\n",
    "#         1   11.929   11.929   11.929   11.929 simul.py:15(evolve)\n",
    "#         1    0.002    0.002    0.003    0.003 simul.py:115(<listcomp>)\n",
    "#      3000    0.001    0.000    0.001    0.000 random.py:371(uniform)\n",
    "#      1000    0.000    0.000    0.000    0.000 simul.py:8(__init__)\n",
    "#      3000    0.000    0.000    0.000    0.000 {method 'random' of '_random.Random' objects}\n",
    "#         1    0.000    0.000   11.932   11.932 <string>:1(<module>)\n",
    "#         1    0.000    0.000   11.932   11.932 {built-in method builtins.exec}\n",
    "#         1    0.000    0.000   11.932   11.932 simul.py:114(benchmark)\n",
    "#         1    0.000    0.000    0.000    0.000 simul.py:13(__init__)\n",
    "#         1    0.000    0.000    0.000    0.000 {method 'disable' of '_lsprof.Profiler' objects}\n"
   ]
  },
  {
   "cell_type": "code",
   "execution_count": 6,
   "metadata": {},
   "outputs": [],
   "source": [
    "%load_ext line_profiler"
   ]
  },
  {
   "cell_type": "code",
   "execution_count": 7,
   "metadata": {},
   "outputs": [],
   "source": [
    "from simul import ParticleSimulator,benchmark \n",
    "#優化前\n",
    "%lprun -f ParticleSimulator.evolve benchmark()\n",
    "#result\n",
    "\n",
    "# Timer unit: 3.95062e-07 s\n",
    "\n",
    "# Total time: 136.565 s\n",
    "# File: C:\\Users\\user\\Documents\\python\\machinelearning\\optimize\\simul.py\n",
    "# Function: evolve at line 15\n",
    "\n",
    "# Line #      Hits         Time  Per Hit   % Time  Line Contents\n",
    "# ==============================================================\n",
    "#     15                                               def evolve(self, dt):\n",
    "#     16         1         13.0     13.0      0.0          timestep = 0.00001\n",
    "#     17         1         15.0     15.0      0.0          nsteps = int(dt/timestep)\n",
    "#     18                                                   \n",
    "#     19     10001      55569.0      5.6      0.0          for i in range(nsteps):\n",
    "#     20  10010000   31380132.0      3.1      9.1              for p in self.particles:\n",
    "#     21                                                           #計算方向\n",
    "#     22  10000000   82864277.0      8.3     24.0                  norm = (p.x**2+p.y**2)**0.5\n",
    "#     23  10000000   40156089.0      4.0     11.6                  v_x = -p.y/norm\n",
    "#     24  10000000   34617088.0      3.5     10.0                  v_y = p.x/norm\n",
    "#     25                                                           \n",
    "#     26                                                           #計算位移\n",
    "#     27  10000000   39929310.0      4.0     11.6                  d_x = timestep * p.ang_vel * v_x\n",
    "#     28  10000000   37301958.0      3.7     10.8                  d_y = timestep * p.ang_vel * v_y\n",
    "#     29                                                           \n",
    "#     30  10000000   40280404.0      4.0     11.7                  p.x += d_x\n",
    "#     31  10000000   39093998.0      3.9     11.3                  p.y += d_y\n"
   ]
  },
  {
   "cell_type": "code",
   "execution_count": 8,
   "metadata": {},
   "outputs": [],
   "source": [
    "#優化後\n",
    "from simul_optimize import ParticleSimulator,benchmark\n",
    "%lprun -f ParticleSimulator.evolve_fast benchmark()\n",
    "\n",
    "# Timer unit: 3.95062e-07 s\n",
    "\n",
    "# Total time: 63.3958 s\n",
    "# File: C:\\Users\\user\\Documents\\python\\machinelearning\\optimize\\simul_optimize.py\n",
    "# Function: evolve_fast at line 15\n",
    "\n",
    "# Line #      Hits         Time  Per Hit   % Time  Line Contents\n",
    "# ==============================================================\n",
    "#     15                                               def evolve_fast(self, dt):\n",
    "#     16         1         15.0     15.0      0.0          timestep = 0.00001\n",
    "#     17         1         18.0     18.0      0.0          nsteps = int(dt/timestep)\n",
    "#     18                                                   \n",
    "#     19      1001       4574.0      4.6      0.0          for p in self.particles:\n",
    "#     20      1000       3492.0      3.5      0.0              t_x_ang = timestep* p.ang_vel\n",
    "#     21  10001000   26026360.0      2.6     16.2              for i in range(nsteps):\n",
    "#     22  10000000   58630315.0      5.9     36.5                  norm = (p.x**2+p.y**2)**0.5\n",
    "#     23  10000000   35248966.0      3.5     22.0                  p.x, p.y = (p.x - t_x_ang*p.y/norm,\n",
    "#     24  10000000   40556655.0      4.1     25.3                             p.y + t_x_ang*p.x/norm)\n",
    "\n",
    "    \n",
    "#加速了約一倍"
   ]
  },
  {
   "cell_type": "code",
   "execution_count": 9,
   "metadata": {},
   "outputs": [
    {
     "name": "stdout",
     "output_type": "stream",
     "text": [
      " 16           0 LOAD_CONST               1 (1e-05)\n",
      "              2 STORE_FAST               2 (timestep)\n",
      "\n",
      " 17           4 LOAD_GLOBAL              0 (int)\n",
      "              6 LOAD_FAST                1 (dt)\n",
      "              8 LOAD_FAST                2 (timestep)\n",
      "             10 BINARY_TRUE_DIVIDE\n",
      "             12 CALL_FUNCTION            1\n",
      "             14 STORE_FAST               3 (nsteps)\n",
      "\n",
      " 19          16 SETUP_LOOP             134 (to 152)\n",
      "             18 LOAD_GLOBAL              1 (range)\n",
      "             20 LOAD_FAST                3 (nsteps)\n",
      "             22 CALL_FUNCTION            1\n",
      "             24 GET_ITER\n",
      "        >>   26 FOR_ITER               122 (to 150)\n",
      "             28 STORE_FAST               4 (i)\n",
      "\n",
      " 20          30 SETUP_LOOP             116 (to 148)\n",
      "             32 LOAD_FAST                0 (self)\n",
      "             34 LOAD_ATTR                2 (particles)\n",
      "             36 GET_ITER\n",
      "        >>   38 FOR_ITER               106 (to 146)\n",
      "             40 STORE_FAST               5 (p)\n",
      "\n",
      " 22          42 LOAD_FAST                5 (p)\n",
      "             44 LOAD_ATTR                3 (x)\n",
      "             46 LOAD_CONST               2 (2)\n",
      "             48 BINARY_POWER\n",
      "             50 LOAD_FAST                5 (p)\n",
      "             52 LOAD_ATTR                4 (y)\n",
      "             54 LOAD_CONST               2 (2)\n",
      "             56 BINARY_POWER\n",
      "             58 BINARY_ADD\n",
      "             60 LOAD_CONST               3 (0.5)\n",
      "             62 BINARY_POWER\n",
      "             64 STORE_FAST               6 (norm)\n",
      "\n",
      " 23          66 LOAD_FAST                5 (p)\n",
      "             68 LOAD_ATTR                4 (y)\n",
      "             70 UNARY_NEGATIVE\n",
      "             72 LOAD_FAST                6 (norm)\n",
      "             74 BINARY_TRUE_DIVIDE\n",
      "             76 STORE_FAST               7 (v_x)\n",
      "\n",
      " 24          78 LOAD_FAST                5 (p)\n",
      "             80 LOAD_ATTR                3 (x)\n",
      "             82 LOAD_FAST                6 (norm)\n",
      "             84 BINARY_TRUE_DIVIDE\n",
      "             86 STORE_FAST               8 (v_y)\n",
      "\n",
      " 27          88 LOAD_FAST                2 (timestep)\n",
      "             90 LOAD_FAST                5 (p)\n",
      "             92 LOAD_ATTR                5 (ang_vel)\n",
      "             94 BINARY_MULTIPLY\n",
      "             96 LOAD_FAST                7 (v_x)\n",
      "             98 BINARY_MULTIPLY\n",
      "            100 STORE_FAST               9 (d_x)\n",
      "\n",
      " 28         102 LOAD_FAST                2 (timestep)\n",
      "            104 LOAD_FAST                5 (p)\n",
      "            106 LOAD_ATTR                5 (ang_vel)\n",
      "            108 BINARY_MULTIPLY\n",
      "            110 LOAD_FAST                8 (v_y)\n",
      "            112 BINARY_MULTIPLY\n",
      "            114 STORE_FAST              10 (d_y)\n",
      "\n",
      " 30         116 LOAD_FAST                5 (p)\n",
      "            118 DUP_TOP\n",
      "            120 LOAD_ATTR                3 (x)\n",
      "            122 LOAD_FAST                9 (d_x)\n",
      "            124 INPLACE_ADD\n",
      "            126 ROT_TWO\n",
      "            128 STORE_ATTR               3 (x)\n",
      "\n",
      " 31         130 LOAD_FAST                5 (p)\n",
      "            132 DUP_TOP\n",
      "            134 LOAD_ATTR                4 (y)\n",
      "            136 LOAD_FAST               10 (d_y)\n",
      "            138 INPLACE_ADD\n",
      "            140 ROT_TWO\n",
      "            142 STORE_ATTR               4 (y)\n",
      "            144 JUMP_ABSOLUTE           38\n",
      "        >>  146 POP_BLOCK\n",
      "        >>  148 JUMP_ABSOLUTE           26\n",
      "        >>  150 POP_BLOCK\n",
      "        >>  152 LOAD_CONST               0 (None)\n",
      "            154 RETURN_VALUE\n"
     ]
    }
   ],
   "source": [
    "import dis\n",
    "from simul import ParticleSimulator\n",
    "dis.dis(ParticleSimulator.evolve)"
   ]
  },
  {
   "cell_type": "code",
   "execution_count": 10,
   "metadata": {},
   "outputs": [
    {
     "name": "stdout",
     "output_type": "stream",
     "text": [
      " 16           0 LOAD_CONST               1 (1e-05)\n",
      "              2 STORE_FAST               2 (timestep)\n",
      "\n",
      " 17           4 LOAD_GLOBAL              0 (int)\n",
      "              6 LOAD_FAST                1 (dt)\n",
      "              8 LOAD_FAST                2 (timestep)\n",
      "             10 BINARY_TRUE_DIVIDE\n",
      "             12 CALL_FUNCTION            1\n",
      "             14 STORE_FAST               3 (nsteps)\n",
      "\n",
      " 19          16 SETUP_LOOP             112 (to 130)\n",
      "             18 LOAD_FAST                0 (self)\n",
      "             20 LOAD_ATTR                1 (particles)\n",
      "             22 GET_ITER\n",
      "        >>   24 FOR_ITER               102 (to 128)\n",
      "             26 STORE_FAST               4 (p)\n",
      "\n",
      " 20          28 LOAD_FAST                2 (timestep)\n",
      "             30 LOAD_FAST                4 (p)\n",
      "             32 LOAD_ATTR                2 (ang_vel)\n",
      "             34 BINARY_MULTIPLY\n",
      "             36 STORE_FAST               5 (t_x_ang)\n",
      "\n",
      " 21          38 SETUP_LOOP              86 (to 126)\n",
      "             40 LOAD_GLOBAL              3 (range)\n",
      "             42 LOAD_FAST                3 (nsteps)\n",
      "             44 CALL_FUNCTION            1\n",
      "             46 GET_ITER\n",
      "        >>   48 FOR_ITER                74 (to 124)\n",
      "             50 STORE_FAST               6 (i)\n",
      "\n",
      " 22          52 LOAD_FAST                4 (p)\n",
      "             54 LOAD_ATTR                4 (x)\n",
      "             56 LOAD_CONST               2 (2)\n",
      "             58 BINARY_POWER\n",
      "             60 LOAD_FAST                4 (p)\n",
      "             62 LOAD_ATTR                5 (y)\n",
      "             64 LOAD_CONST               2 (2)\n",
      "             66 BINARY_POWER\n",
      "             68 BINARY_ADD\n",
      "             70 LOAD_CONST               3 (0.5)\n",
      "             72 BINARY_POWER\n",
      "             74 STORE_FAST               7 (norm)\n",
      "\n",
      " 23          76 LOAD_FAST                4 (p)\n",
      "             78 LOAD_ATTR                4 (x)\n",
      "             80 LOAD_FAST                5 (t_x_ang)\n",
      "             82 LOAD_FAST                4 (p)\n",
      "             84 LOAD_ATTR                5 (y)\n",
      "             86 BINARY_MULTIPLY\n",
      "             88 LOAD_FAST                7 (norm)\n",
      "             90 BINARY_TRUE_DIVIDE\n",
      "             92 BINARY_SUBTRACT\n",
      "\n",
      " 24          94 LOAD_FAST                4 (p)\n",
      "             96 LOAD_ATTR                5 (y)\n",
      "             98 LOAD_FAST                5 (t_x_ang)\n",
      "            100 LOAD_FAST                4 (p)\n",
      "            102 LOAD_ATTR                4 (x)\n",
      "            104 BINARY_MULTIPLY\n",
      "            106 LOAD_FAST                7 (norm)\n",
      "            108 BINARY_TRUE_DIVIDE\n",
      "            110 BINARY_ADD\n",
      "            112 ROT_TWO\n",
      "            114 LOAD_FAST                4 (p)\n",
      "            116 STORE_ATTR               4 (x)\n",
      "            118 LOAD_FAST                4 (p)\n",
      "            120 STORE_ATTR               5 (y)\n",
      "            122 JUMP_ABSOLUTE           48\n",
      "        >>  124 POP_BLOCK\n",
      "        >>  126 JUMP_ABSOLUTE           24\n",
      "        >>  128 POP_BLOCK\n",
      "        >>  130 LOAD_CONST               0 (None)\n",
      "            132 RETURN_VALUE\n"
     ]
    }
   ],
   "source": [
    "from simul_optimize import ParticleSimulator\n",
    "dis.dis(ParticleSimulator.evolve_fast)"
   ]
  },
  {
   "cell_type": "code",
   "execution_count": 11,
   "metadata": {},
   "outputs": [],
   "source": [
    "from simul import benchmark"
   ]
  },
  {
   "cell_type": "code",
   "execution_count": 12,
   "metadata": {},
   "outputs": [],
   "source": [
    "%load_ext memory_profiler"
   ]
  },
  {
   "cell_type": "code",
   "execution_count": 13,
   "metadata": {},
   "outputs": [
    {
     "name": "stdout",
     "output_type": "stream",
     "text": [
      "\n"
     ]
    }
   ],
   "source": [
    "%mprun -f benchmark benchmark()\n",
    "\n",
    "# Line #    Mem usage    Increment   Line Contents\n",
    "# ================================================\n",
    "#    114     60.2 MiB     60.2 MiB   def benchmark():\n",
    "#    115     60.3 MiB      0.0 MiB       particles = [Particle(uniform(-1.0, 1.0),\n",
    "#    116                                                      uniform(-1.0, 1.0),\n",
    "#    117                                                      uniform(-1.0, 1.0))\n",
    "#    118     60.3 MiB      0.0 MiB                   for i in range(1000)]\n",
    "#    119     60.3 MiB      0.0 MiB       simulator = ParticleSimulator(particles)\n",
    "#    120     60.2 MiB      0.0 MiB       simulator.evolve(0.1)\n"
   ]
  },
  {
   "cell_type": "code",
   "execution_count": null,
   "metadata": {},
   "outputs": [],
   "source": []
  }
 ],
 "metadata": {
  "kernelspec": {
   "display_name": "Python 3",
   "language": "python",
   "name": "python3"
  },
  "language_info": {
   "codemirror_mode": {
    "name": "ipython",
    "version": 3
   },
   "file_extension": ".py",
   "mimetype": "text/x-python",
   "name": "python",
   "nbconvert_exporter": "python",
   "pygments_lexer": "ipython3",
   "version": "3.6.8"
  }
 },
 "nbformat": 4,
 "nbformat_minor": 2
}
