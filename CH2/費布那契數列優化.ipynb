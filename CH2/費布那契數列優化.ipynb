{
 "cells": [
  {
   "cell_type": "code",
   "execution_count": 1,
   "metadata": {},
   "outputs": [
    {
     "name": "stdout",
     "output_type": "stream",
     "text": [
      "6.03 ms ± 250 µs per loop (mean ± std. dev. of 7 runs, 100 loops each)\n"
     ]
    }
   ],
   "source": [
    "def fibonacci(n):\n",
    "    if n < 1:\n",
    "        return 1\n",
    "    else:\n",
    "        return fibonacci(n - 1) + fibonacci(n - 2)\n",
    "\n",
    "# 未優化 時間複雜度O(2^N)\n",
    "%timeit fibonacci(20)"
   ]
  },
  {
   "cell_type": "code",
   "execution_count": 2,
   "metadata": {},
   "outputs": [
    {
     "name": "stdout",
     "output_type": "stream",
     "text": [
      "154 ns ± 18.3 ns per loop (mean ± std. dev. of 7 runs, 10000000 loops each)\n"
     ]
    }
   ],
   "source": [
    "#優化\n",
    "from functools import lru_cache\n",
    "@lru_cache()\n",
    "def fibonacci(n):\n",
    "    if n < 1:\n",
    "        return 1\n",
    "    else:\n",
    "        return fibonacci(n - 1) + fibonacci(n - 2)\n",
    "\n",
    "# 優化\n",
    "%timeit fibonacci(20)"
   ]
  },
  {
   "cell_type": "code",
   "execution_count": 3,
   "metadata": {},
   "outputs": [],
   "source": [
    "#緩存狀況\n",
    "fibonacci.cache_info()\n",
    "# CacheInfo(hits=81111129, misses=22, maxsize=128, currsize=22)\n",
    "#清除緩存\n",
    "fibonacci.cache_clear()"
   ]
  },
  {
   "cell_type": "code",
   "execution_count": 4,
   "metadata": {},
   "outputs": [
    {
     "name": "stdout",
     "output_type": "stream",
     "text": [
      "Fibonacci took 0.00 us\n"
     ]
    }
   ],
   "source": [
    "import timeit\n",
    "setup_code = '''\n",
    "from functools import lru_cache\n",
    "from __main__ import fibonacci\n",
    "fibonacci_memoized = lru_cache(maxsize=None)(fibonacci)\n",
    "'''\n",
    "results = timeit.repeat('fibonacci_memoized(20)',\n",
    "                       setup=setup_code,\n",
    "                       repeat=1000,\n",
    "                       number=1)\n",
    "print(\"Fibonacci took {:.2f} us\".format(min(results)))"
   ]
  },
  {
   "cell_type": "code",
   "execution_count": null,
   "metadata": {},
   "outputs": [],
   "source": []
  }
 ],
 "metadata": {
  "kernelspec": {
   "display_name": "Python 3",
   "language": "python",
   "name": "python3"
  },
  "language_info": {
   "codemirror_mode": {
    "name": "ipython",
    "version": 3
   },
   "file_extension": ".py",
   "mimetype": "text/x-python",
   "name": "python",
   "nbconvert_exporter": "python",
   "pygments_lexer": "ipython3",
   "version": "3.6.8"
  }
 },
 "nbformat": 4,
 "nbformat_minor": 2
}
