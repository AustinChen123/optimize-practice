{
 "cells": [
  {
   "cell_type": "code",
   "execution_count": 1,
   "metadata": {},
   "outputs": [],
   "source": [
    "import numpy as np\n",
    "class Particle:\n",
    "    def __init__(self, x, y, ang_speed):\n",
    "        self.x = x\n",
    "        self.y = y\n",
    "        self.ang_vel = ang_speed\n",
    "        self.ang_speed = ang_speed\n",
    "class ParticleSimulator:\n",
    "    def __init__(self, particles):\n",
    "        self.particles = particles\n",
    "    def evolve_cython(self, dt):\n",
    "        timestep = 0.00001\n",
    "        nsteps = int(dt/timestep)\n",
    "        \n",
    "        r_i = np.array([[p.x, p.y] for p in self.particles])\n",
    "        ang_speed_i = np.array([p.ang_speed for p in self.particles])\n",
    "        \n",
    "        c_evolve(r_i, ang_speed_i, timestep, nsteps)\n",
    "        for i, p in enumerate(self.particles):\n",
    "            p.x, p.y = r_i[i]\n",
    "    def evolve_python(self, dt):\n",
    "        timestep = 0.00001\n",
    "        nsteps = int(dt/timestep)\n",
    "        \n",
    "        for i in range(nsteps):\n",
    "            for p in self.particles:\n",
    "                #計算方向\n",
    "                norm = (p.x**2+p.y**2)**0.5\n",
    "                v_x = -p.y/norm\n",
    "                v_y = p.x/norm\n",
    "                \n",
    "                #計算位移\n",
    "                d_x = timestep * p.ang_vel * v_x\n",
    "                d_y = timestep * p.ang_vel * v_y\n",
    "                \n",
    "                p.x += d_x\n",
    "                p.y += d_y                \n",
    "                #重複\n",
    "    def evolve_numpy(self, dt):\n",
    "        timestep = 0.00001\n",
    "        nsteps = int(dt/timestep)\n",
    "        \n",
    "        r_i = np.array([[p.x, p.y] for p in self.particles])\n",
    "        ang_speed_i = np.array([p.ang_speed for p in self.particles])\n",
    "        v_i = np.empty_like(r_i)\n",
    "\n",
    "        for i in range(nsteps):\n",
    "            norm_i = np.sqrt((r_i**2).sum(axis = 1))\n",
    "\n",
    "            v_i = r_i[:,[1,0]]\n",
    "            v_i[:, 0] *= -1\n",
    "            v_i /= norm_i[:, np.newaxis]\n",
    "\n",
    "            d_i =timestep * ang_speed_i[:, np.newaxis] * v_i\n",
    "\n",
    "            r_i += d_i\n",
    "            for i, p in enumerate(self.particles):\n",
    "                p.x, p.y = r_i[i]                "
   ]
  },
  {
   "cell_type": "code",
   "execution_count": 2,
   "metadata": {},
   "outputs": [],
   "source": [
    "import matplotlib.pyplot as plt\n",
    "from matplotlib import animation\n",
    "def visualize(simulator):\n",
    "    X = [p.x for p in simulator.particles]\n",
    "    Y = [p.y for p in simulator.particles]\n",
    "    fig = plt.figure()\n",
    "    ax = plt.subplot(111, aspect = \"equal\")\n",
    "    line, = ax.plot(X ,Y ,\"ro\") #此逗號不可少\n",
    "    \n",
    "    #指定坐標軸範圍\n",
    "    plt.xlim(-1,1)\n",
    "    plt.ylim(-1,1)\n",
    "    \n",
    "    def init():\n",
    "        line.set_data([], [])\n",
    "        return line,\n",
    "    def animate(i):\n",
    "        #粒子移動0.01個時間單位\n",
    "        simulator.evolve(0.01)\n",
    "        X = [p.x for p in simulator.particles]\n",
    "        Y = [p.y for p in simulator.particles]\n",
    "      \n",
    "        line.set_data(X, Y)\n",
    "        return line,\n",
    "    anim = animation.FuncAnimation(fig = fig,\n",
    "                               func = animate,\n",
    "                              init_func= init,\n",
    "                              blit = True,\n",
    "                              interval = 10)\n",
    "    return anim"
   ]
  },
  {
   "cell_type": "code",
   "execution_count": 3,
   "metadata": {},
   "outputs": [
    {
     "data": {
      "image/png": "[encoded data removed]",
      "text/plain": [
       "<Figure size 432x288 with 1 Axes>"
      ]
     },
     "metadata": {
      "needs_background": "light"
     },
     "output_type": "display_data"
    }
   ],
   "source": [
    "def test_visualize():\n",
    "    particles = [Particle(0.3, 0.5, 1),\n",
    "                Particle(0.0, -0.5, -1),\n",
    "                Particle(-0.1, -0.4, 3)]\n",
    "    simulator = ParticleSimulator(particles)\n",
    "    visualize(simulator)\n",
    "if __name__ == \"__main__\":\n",
    "    test_visualize()"
   ]
  },
  {
   "cell_type": "code",
   "execution_count": 4,
   "metadata": {},
   "outputs": [
    {
     "data": {
      "image/png": "[encoded data removed]",
      "text/plain": [
       "<Figure size 432x288 with 1 Axes>"
      ]
     },
     "metadata": {
      "needs_background": "light"
     },
     "output_type": "display_data"
    }
   ],
   "source": [
    "def test_evolve():\n",
    "    particles = [Particle(0.3, 0.5, +1),\n",
    "                Particle(0.0, -0.5, -1),\n",
    "                Particle(-0.1, -0.4, +3)]\n",
    "    simulator = ParticleSimulator(particles)\n",
    "    \n",
    "    simulator.evolve(0.1)\n",
    "    \n",
    "    p0, p1, p2 = particles\n",
    "    def fequal(a, b, eps = 1e-5):\n",
    "        return abs(a - b) < eps\n",
    "    assert fequal(p0.x, 0.210269)\n",
    "    assert fequal(p0.y, 0.543863)\n",
    "    \n",
    "    assert fequal(p1.x, -0.099334)\n",
    "    assert fequal(p1.y, -0.490034)\n",
    "    \n",
    "    assert fequal(p2.x, 0.191358)\n",
    "    assert fequal(p2.y, -0.365227)\n",
    "if __name__ == \"__main__\":\n",
    "    test_visualize()    \n",
    "    "
   ]
  },
  {
   "cell_type": "code",
   "execution_count": 5,
   "metadata": {},
   "outputs": [],
   "source": [
    "import cevolve"
   ]
  },
  {
   "cell_type": "code",
   "execution_count": 6,
   "metadata": {},
   "outputs": [],
   "source": [
    "# def c_evolve(r_i, ang_speed_i, timestep, nsteps):\n",
    "#     v_i = np.empty_like(r_i)\n",
    "\n",
    "#     for i in range(nsteps):\n",
    "#         norm_i = np.sqrt((r_i**2).sum(axis = 1))\n",
    "\n",
    "#         v_i = r_i[:,[1,0]]\n",
    "#         v_i[:, 0] *= -1\n",
    "#         v_i /= norm_i[:, np.newaxis]\n",
    "\n",
    "#         d_i =timestep * ang_speed_i[:, np.newaxis] * v_i\n",
    "\n",
    "#         r_i += d_i"
   ]
  },
  {
   "cell_type": "code",
   "execution_count": 7,
   "metadata": {},
   "outputs": [],
   "source": [
    "from random import uniform\n",
    "def benchmark(npart = 100, method = \"python\"):\n",
    "    particles = [Particle(uniform(-1.0, 1.0),\n",
    "                         uniform(-1.0, 1.0),\n",
    "                         uniform(-1.0, 1.0))\n",
    "                for i in range(npart)]\n",
    "    simulator = ParticleSimulator(particles)\n",
    "    if method == \"python\":\n",
    "        simulator.evolve_python(0.1)\n",
    "    elif method == \"cython\":\n",
    "        simulator.evolve_cython(0.1)\n",
    "\n",
    "\n",
    "def benchmark_memory():\n",
    "    particles = [Particle(uniform(-1.0, 1.0),\n",
    "                         uniform(-1.0, 1.0),\n",
    "                         uniform(-1.0, 1.0))\n",
    "                for i in range(10000)]\n",
    "    simulator =  ParticleSimulator(particles)\n",
    "    simulator.evolve_python(0.001)\n",
    "if __name__ == '__main__':\n",
    "    benchmark(100,\"cython\")"
   ]
  },
  {
   "cell_type": "code",
   "execution_count": 8,
   "metadata": {},
   "outputs": [
    {
     "name": "stdout",
     "output_type": "stream",
     "text": [
      "856 ms ± 33.1 ms per loop (mean ± std. dev. of 7 runs, 1 loop each)\n"
     ]
    }
   ],
   "source": [
    "%timeit benchmark(1000,\"cython\")"
   ]
  },
  {
   "cell_type": "code",
   "execution_count": null,
   "metadata": {},
   "outputs": [],
   "source": []
  }
 ],
 "metadata": {
  "kernelspec": {
   "display_name": "Python 3",
   "language": "python",
   "name": "python3"
  },
  "language_info": {
   "codemirror_mode": {
    "name": "ipython",
    "version": 3
   },
   "file_extension": ".py",
   "mimetype": "text/x-python",
   "name": "python",
   "nbconvert_exporter": "python",
   "pygments_lexer": "ipython3",
   "version": "3.6.8"
  }
 },
 "nbformat": 4,
 "nbformat_minor": 2
}
